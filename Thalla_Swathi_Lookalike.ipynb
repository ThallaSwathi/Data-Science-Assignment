{
  "nbformat": 4,
  "nbformat_minor": 0,
  "metadata": {
    "colab": {
      "provenance": []
    },
    "kernelspec": {
      "name": "python3",
      "display_name": "Python 3"
    },
    "language_info": {
      "name": "python"
    }
  },
  "cells": [
    {
      "cell_type": "markdown",
      "source": [
        "**Loading And Merging The Datasets**"
      ],
      "metadata": {
        "id": "KFqb7CALhORf"
      }
    },
    {
      "cell_type": "code",
      "execution_count": null,
      "metadata": {
        "colab": {
          "base_uri": "https://localhost:8080/"
        },
        "id": "s-9bwdeip7ec",
        "outputId": "038c5fe4-2cbf-436d-d08c-3127e10dab4b"
      },
      "outputs": [
        {
          "output_type": "stream",
          "name": "stdout",
          "text": [
            "Merged Data Preview:\n",
            "  TransactionID CustomerID ProductID      TransactionDate  Quantity  \\\n",
            "0        T00001      C0199      P067  2024-08-25 12:38:23         1   \n",
            "1        T00112      C0146      P067  2024-05-27 22:23:54         1   \n",
            "2        T00166      C0127      P067  2024-04-25 07:38:55         1   \n",
            "3        T00272      C0087      P067  2024-03-26 22:55:37         2   \n",
            "4        T00363      C0070      P067  2024-03-21 15:10:10         3   \n",
            "\n",
            "   TotalValue  Price_x     CustomerName         Region  SignupDate  \\\n",
            "0      300.68   300.68   Andrea Jenkins         Europe  2022-12-03   \n",
            "1      300.68   300.68  Brittany Harvey           Asia  2024-09-04   \n",
            "2      300.68   300.68  Kathryn Stevens         Europe  2024-04-04   \n",
            "3      601.36   300.68  Travis Campbell  South America  2024-04-11   \n",
            "4      902.04   300.68    Timothy Perez         Europe  2022-03-15   \n",
            "\n",
            "                       ProductName     Category  Price_y  \n",
            "0  ComfortLiving Bluetooth Speaker  Electronics   300.68  \n",
            "1  ComfortLiving Bluetooth Speaker  Electronics   300.68  \n",
            "2  ComfortLiving Bluetooth Speaker  Electronics   300.68  \n",
            "3  ComfortLiving Bluetooth Speaker  Electronics   300.68  \n",
            "4  ComfortLiving Bluetooth Speaker  Electronics   300.68  \n"
          ]
        }
      ],
      "source": [
        "import pandas as pd\n",
        "import numpy as np\n",
        "# Load datasets\n",
        "customers = pd.read_csv('Customers.csv')\n",
        "products = pd.read_csv('Products.csv')\n",
        "transactions = pd.read_csv('Transactions.csv')\n",
        "# Merge datasets\n",
        "merged_data = transactions.merge(customers, on='CustomerID').merge(products, on='ProductID')\n",
        "print(\"Merged Data Preview:\")\n",
        "print(merged_data.head())\n"
      ]
    },
    {
      "cell_type": "markdown",
      "source": [
        "**Creating A Customer Profile**"
      ],
      "metadata": {
        "id": "lT2-dz-bhbcg"
      }
    },
    {
      "cell_type": "code",
      "source": [
        "customer_profile = merged_data.groupby('CustomerID').agg({\n",
        "    'TotalValue': 'sum', # Total spending\n",
        "    'Quantity': 'sum',   # Total quantity purchased\n",
        "}).reset_index()\n",
        "region_dummies = pd.get_dummies(customers.set_index('CustomerID')['Region'], prefix='Region')\n",
        "customer_profile = customer_profile.join(region_dummies, on='CustomerID')\n",
        "product_preferences = merged_data.groupby(['CustomerID', 'Category']).size().unstack(fill_value=0)\n",
        "customer_profile = customer_profile.join(product_preferences, on='CustomerID')\n",
        "print(\"Customer Profile Preview:\")\n",
        "print(customer_profile.head())\n"
      ],
      "metadata": {
        "colab": {
          "base_uri": "https://localhost:8080/"
        },
        "id": "pK6FGZHmZb9i",
        "outputId": "c3e34029-e308-49e5-df10-4269f100a78f"
      },
      "execution_count": null,
      "outputs": [
        {
          "output_type": "stream",
          "name": "stdout",
          "text": [
            "Customer Profile Preview:\n",
            "  CustomerID  TotalValue  Quantity  Region_Asia  Region_Europe  \\\n",
            "0      C0001     3354.52        12        False          False   \n",
            "1      C0002     1862.74        10         True          False   \n",
            "2      C0003     2725.38        14        False          False   \n",
            "3      C0004     5354.88        23        False          False   \n",
            "4      C0005     2034.24         7         True          False   \n",
            "\n",
            "   Region_North America  Region_South America  Books  Clothing  Electronics  \\\n",
            "0                 False                  True      1         0            3   \n",
            "1                 False                 False      0         2            0   \n",
            "2                 False                  True      0         1            1   \n",
            "3                 False                  True      3         0            2   \n",
            "4                 False                 False      0         0            2   \n",
            "\n",
            "   Home Decor  \n",
            "0           1  \n",
            "1           2  \n",
            "2           2  \n",
            "3           3  \n",
            "4           1  \n"
          ]
        }
      ]
    },
    {
      "cell_type": "markdown",
      "source": [
        "**Cosine similarity To Check Similarity Between Two Customers**"
      ],
      "metadata": {
        "id": "2DZCZYJphyS3"
      }
    },
    {
      "cell_type": "code",
      "source": [
        "from sklearn.metrics.pairwise import cosine_similarity\n",
        "features = customer_profile.drop(columns=['CustomerID'])\n",
        "similarity_matrix = cosine_similarity(features)\n",
        "customer_ids = customer_profile['CustomerID']"
      ],
      "metadata": {
        "id": "MNybe6FJZnOL"
      },
      "execution_count": null,
      "outputs": []
    },
    {
      "cell_type": "markdown",
      "source": [
        "**Generating Recommendations For The First 20 Customers**"
      ],
      "metadata": {
        "id": "GUS3Oh2NiL_q"
      }
    },
    {
      "cell_type": "code",
      "source": [
        "lookalike_recommendations = {}\n",
        "for i, customer_id in enumerate(customer_ids[:20]):\n",
        "    similarities = list(enumerate(similarity_matrix[i]))\n",
        "    sorted_similarities = sorted(similarities, key=lambda x: x[1], reverse=True)[1:4]\n",
        "    similar_customers = [(customer_ids[j], round(score, 4)) for j, score in sorted_similarities]\n",
        "    lookalike_recommendations[customer_id] = similar_customers\n",
        "for customer, recommendations in lookalike_recommendations.items():\n",
        "    print(f\"Customer {customer} Lookalikes: {recommendations}\")\n"
      ],
      "metadata": {
        "colab": {
          "base_uri": "https://localhost:8080/"
        },
        "id": "pJns1-qCaDrk",
        "outputId": "ce18d7e2-8668-469f-9e8e-0ab702370671"
      },
      "execution_count": null,
      "outputs": [
        {
          "output_type": "stream",
          "name": "stdout",
          "text": [
            "Customer C0001 Lookalikes: [('C0068', 1.0), ('C0045', 1.0), ('C0120', 1.0)]\n",
            "Customer C0002 Lookalikes: [('C0134', 1.0), ('C0043', 1.0), ('C0062', 1.0)]\n",
            "Customer C0003 Lookalikes: [('C0031', 1.0), ('C0113', 1.0), ('C0190', 1.0)]\n",
            "Customer C0004 Lookalikes: [('C0113', 1.0), ('C0017', 1.0), ('C0039', 1.0)]\n",
            "Customer C0005 Lookalikes: [('C0007', 1.0), ('C0146', 1.0), ('C0127', 1.0)]\n",
            "Customer C0006 Lookalikes: [('C0082', 1.0), ('C0079', 1.0), ('C0185', 1.0)]\n",
            "Customer C0007 Lookalikes: [('C0146', 1.0), ('C0005', 1.0), ('C0140', 1.0)]\n",
            "Customer C0008 Lookalikes: [('C0181', 1.0), ('C0086', 1.0), ('C0166', 1.0)]\n",
            "Customer C0009 Lookalikes: [('C0198', 1.0), ('C0092', 1.0), ('C0061', 1.0)]\n",
            "Customer C0010 Lookalikes: [('C0111', 1.0), ('C0049', 1.0), ('C0109', 1.0)]\n",
            "Customer C0011 Lookalikes: [('C0153', 1.0), ('C0087', 1.0), ('C0155', 1.0)]\n",
            "Customer C0012 Lookalikes: [('C0065', 1.0), ('C0179', 1.0), ('C0104', 1.0)]\n",
            "Customer C0013 Lookalikes: [('C0188', 1.0), ('C0183', 1.0), ('C0107', 1.0)]\n",
            "Customer C0014 Lookalikes: [('C0119', 1.0), ('C0172', 1.0), ('C0199', 1.0)]\n",
            "Customer C0015 Lookalikes: [('C0131', 1.0), ('C0139', 1.0), ('C0065', 1.0)]\n",
            "Customer C0016 Lookalikes: [('C0141', 1.0), ('C0074', 1.0), ('C0040', 1.0)]\n",
            "Customer C0017 Lookalikes: [('C0004', 1.0), ('C0075', 1.0), ('C0113', 1.0)]\n",
            "Customer C0018 Lookalikes: [('C0041', 1.0), ('C0057', 1.0), ('C0035', 1.0)]\n",
            "Customer C0019 Lookalikes: [('C0142', 1.0), ('C0073', 1.0), ('C0147', 1.0)]\n",
            "Customer C0020 Lookalikes: [('C0026', 1.0), ('C0125', 1.0), ('C0035', 1.0)]\n"
          ]
        }
      ]
    },
    {
      "cell_type": "markdown",
      "source": [
        "**Saving Recomendations To Lookalike.CSV**"
      ],
      "metadata": {
        "id": "i1XlOaI3i1rV"
      }
    },
    {
      "cell_type": "code",
      "source": [
        "lookalike_data = []\n",
        "for customer_id, recommendations in lookalike_recommendations.items():\n",
        "    for similar_customer, score in recommendations:\n",
        "        lookalike_data.append({\n",
        "            'CustomerID': customer_id,\n",
        "            'SimilarCustomerID': similar_customer,\n",
        "            'SimilarityScore': score\n",
        "        })\n",
        "lookalike_df = pd.DataFrame(lookalike_data)\n",
        "#Saving to Csv File\n",
        "lookalike_df.to_csv('Lookalike.csv', index=False)\n",
        "print(\"Lookalike recommendations saved to 'Lookalike.csv'\")\n"
      ],
      "metadata": {
        "colab": {
          "base_uri": "https://localhost:8080/"
        },
        "id": "ctWS1RNcaKOD",
        "outputId": "c313dfcb-df42-4353-d3e3-c859c1d5e33b"
      },
      "execution_count": null,
      "outputs": [
        {
          "output_type": "stream",
          "name": "stdout",
          "text": [
            "Lookalike recommendations saved to 'Lookalike.csv'\n"
          ]
        }
      ]
    }
  ]
}